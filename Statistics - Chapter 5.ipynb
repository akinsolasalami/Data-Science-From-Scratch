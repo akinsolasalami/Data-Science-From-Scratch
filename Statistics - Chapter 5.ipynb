{
 "cells": [
  {
   "cell_type": "code",
   "execution_count": null,
   "id": "b6097f92",
   "metadata": {},
   "outputs": [],
   "source": [
    "#statisitcs is the mathemeatics and techniques with which we understand data"
   ]
  }
 ],
 "metadata": {
  "language_info": {
   "name": "python"
  }
 },
 "nbformat": 4,
 "nbformat_minor": 5
}
