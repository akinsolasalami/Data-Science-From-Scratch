{
 "cells": [
  {
   "cell_type": "code",
   "execution_count": null,
   "id": "b6097f92",
   "metadata": {},
   "outputs": [],
   "source": [
    "# statisitcs is the mathemeatics and techniques with which we understand data"
   ]
  },
  {
   "cell_type": "code",
   "execution_count": null,
   "id": "68a3efec",
   "metadata": {},
   "outputs": [],
   "source": [
    "from typing import List\n",
    "from collections import Counter\n",
    "from scratch.linear_algebra import sum_of_squares"
   ]
  },
  {
   "cell_type": "markdown",
   "id": "223dc30d",
   "metadata": {},
   "source": [
    "# Chapter 5: Statistics – *Data Science from Scratch*\n",
    "\n",
    "Statistics is the backbone of data science. This chapter introduces essential concepts that help you **describe**, **summarize**, and **understand** your data.\n",
    "\n",
    "---\n",
    "\n",
    "## 📊 Key Topics\n",
    "\n",
    "### 1. Measures of Central Tendency\n",
    "\n",
    "- **Mean**: The average of the numbers.\n",
    "- **Median**: The middle value when the data is sorted.\n",
    "- **Mode**: The most frequent value(s).\n",
    "\n",
    "### 2. Measures of Dispersion\n",
    "\n",
    "- **Range**: Difference between max and min.\n",
    "- **Variance**: Average squared deviation from the mean.\n",
    "- **Standard Deviation**: Square root of the variance; easier to interpret.\n",
    "\n",
    "### 3. Interquartile Range (IQR)\n",
    "\n",
    "- Measures the spread of the **middle 50%** of your data.\n",
    "- Less sensitive to outliers than the range.\n",
    "\n",
    "### 4. Correlation\n",
    "\n",
    "- Tells how **two variables move together**.\n",
    "- Ranges from **-1 to 1**:\n",
    "  - `+1`: Perfect positive relationship\n",
    "  - `0`: No relationship\n",
    "  - `-1`: Perfect negative relationship\n",
    "\n",
    "### 5. Covariance\n",
    "\n",
    "- Also measures how two variables move together.\n",
    "- **Not normalized**, so it's harder to interpret than correlation.\n",
    "\n",
    "### 6. Outliers\n",
    "\n",
    "- Data points that are **far from the rest**.\n",
    "- Can **distort** mean, variance, and correlation.\n",
    "- Important to detect and handle properly.\n",
    "\n",
    "---\n",
    "\n",
    "## 🧠 Simple Takeaways\n",
    "\n",
    "- Use **mean** for typical value when data is symmetric.\n",
    "- Use **median** if the data is skewed or has outliers.\n",
    "- **Standard deviation** shows how spread out your data is.\n",
    "- **Correlation** is great for spotting relationships.\n",
    "- Always be on the lookout for **outliers** — they can sneakily mess things up!\n",
    "\n",
    "---\n",
    "\n",
    "## ✅ Next Steps\n",
    "\n",
    "- Try implementing each concept in Python.\n",
    "- Use small lists of numbers to experiment and visualize.\n",
    "- Think about how each statistic would help in a real data project.\n"
   ]
  },
  {
   "cell_type": "code",
   "execution_count": 4,
   "id": "4e266b23",
   "metadata": {},
   "outputs": [
    {
     "data": {
      "text/plain": [
       "'\\nsame as writing..\\n\\ndef mean(xs):\\n    return sum(xs) / len(xs)\\n'"
      ]
     },
     "execution_count": 4,
     "metadata": {},
     "output_type": "execute_result"
    }
   ],
   "source": [
    "# Central Tendencies\n",
    "\n",
    "def mean(xs: List[float]) -> float:\n",
    "    return sum(xs) / len(xs)\n",
    "\n",
    "\"\"\"\n",
    "same as writing..\n",
    "\n",
    "def mean(xs):\n",
    "    return sum(xs) / len(xs)\n",
    "\"\"\" "
   ]
  },
  {
   "cell_type": "code",
   "execution_count": null,
   "id": "873b12a0",
   "metadata": {},
   "outputs": [],
   "source": [
    "# as you add more points the mean shifts around\n",
    "# mean is dependent on every point\n",
    "\n",
    "# median is the middle most value, if the number of data points is \n",
    "# odd or the avg of the two middle most values if even \n",
    "#   --> "
   ]
  },
  {
   "cell_type": "code",
   "execution_count": 5,
   "id": "8e47e016",
   "metadata": {},
   "outputs": [],
   "source": [
    "def _median_odd(xs: List[float]) -> float:\n",
    "    \"\"\"If lens(xs) is odd, the median is the middle element\"\"\"\n",
    "    return sorted(xs)[len(xs) // 2]"
   ]
  },
  {
   "cell_type": "markdown",
   "id": "204cb0c7",
   "metadata": {},
   "source": [
    "## 🔢 What is Integer Division?\n",
    "\n",
    "**Integer division** divides one number by another and returns the **whole number part only** (rounds down).\n",
    "\n",
    "In Python, we use the `//` operator:\n",
    "\n",
    "```python\n",
    "7 // 2   # Output: 3\n",
    "9 // 4   # Output: 2"
   ]
  },
  {
   "cell_type": "code",
   "execution_count": 6,
   "id": "70f4a03e",
   "metadata": {},
   "outputs": [],
   "source": [
    "def _median_even(xs: List[float]) -> float:\n",
    "    \"\"\"If lens(xs) is even, the mediam is average of the middle two elements\"\"\"\n",
    "    sorted_xs = sorted(xs)\n",
    "    hi_midpoint = lens(xs) // 2\n",
    "    return (sortedxs[hi_midpoint - 1] + sorted_xs[hi_midpoint]) / 2"
   ]
  },
  {
   "cell_type": "code",
   "execution_count": 7,
   "id": "87a7c762",
   "metadata": {},
   "outputs": [],
   "source": [
    "def median(v: List[float]) -> float:\n",
    "    return _median_even(v) if len(v) % 2 == 0 else _median_odd(v)\n"
   ]
  },
  {
   "cell_type": "markdown",
   "id": "b53cd99b",
   "metadata": {},
   "source": [
    "### If we have n data points and one of them increases by some small amount e then necessarily the mean will increase by e/n"
   ]
  },
  {
   "cell_type": "markdown",
   "id": "59598aa7",
   "metadata": {},
   "source": [
    "### because of outliers the mean often give a misleading picture"
   ]
  },
  {
   "cell_type": "code",
   "execution_count": 8,
   "id": "01e16215",
   "metadata": {},
   "outputs": [],
   "source": [
    "# Generalization of the median is the quantile. The median is the 50% quantile\n",
    "\n",
    "def quantile(xs: List[float], p: float) -> float:\n",
    "        \"\"\"returns the pth-percentile value in x\"\"\"\n",
    "        p_index = int(p * len(xs))\n",
    "        return sorted(xs)[p_index]"
   ]
  },
  {
   "cell_type": "markdown",
   "id": "bfac6b95",
   "metadata": {},
   "source": [
    "## 🔍 Explaining: `p_index = int(p * len(xs))`\n",
    "\n",
    "This line finds the **index** of the value at the p-th percentile.\n",
    "\n",
    "### Step-by-step:\n",
    "\n",
    "1. `len(xs)` — Count how many values are in the list.\n",
    "2. `p * len(xs)` — Find the position that is p% of the way through the list.\n",
    "3. `int(...)` — Convert to a whole number (truncate the decimal) so we can use it as a list index.\n",
    "\n",
    "### ✅ Example\n",
    "\n",
    "```python\n",
    "xs = [10, 20, 30, 40, 50]\n",
    "p = 0.25\n",
    "\n",
    "p_index = int(0.25 * 5)  # → int(1.25) → 1\n",
    "sorted(xs)[1] = 20\n"
   ]
  },
  {
   "cell_type": "code",
   "execution_count": 9,
   "id": "9d7c0c12",
   "metadata": {},
   "outputs": [],
   "source": [
    "def mode(x: List[float]) -> List[float]:\n",
    "    \"\"\"Returns a list, since there might be more than one mode\"\"\"\n",
    "    counts = Counter(x)\n",
    "    max_count = max(counts.values())\n",
    "    return [x_i for x_i, count in counts.items() if count == max_count]\n"
   ]
  },
  {
   "cell_type": "markdown",
   "id": "efbf9c1a",
   "metadata": {},
   "source": [
    "# Dispersion\n",
    "\n",
    "Dispersion refers to measures of how spread out our data is. Range and Variance"
   ]
  },
  {
   "cell_type": "code",
   "execution_count": 11,
   "id": "ad8d1ff9",
   "metadata": {},
   "outputs": [],
   "source": [
    "def data_range(xs: List[float]) -> float:\n",
    "    return max(xs) - min(xs)\n"
   ]
  },
  {
   "cell_type": "code",
   "execution_count": null,
   "id": "40a88a62",
   "metadata": {},
   "outputs": [],
   "source": [
    "def de_mean(xs: List[float]) -> List[float]:\n",
    "    \"\"\"Translate xs by subtracting its mean (so the result has mean 0)\"\"\"\n",
    "    x_bar = mean(xs)\n",
    "    return [x - x_bar for x in xs]\n",
    "\n",
    "def variance(xs: List[float]) -> float:\n",
    "    \"\"\"Almost the average squared deviation from the mean\"\"\"\n",
    "    assert len(xs) >= 2, \"variance requires at least two elements\"\n",
    "\n",
    "    n = len(xs)\n",
    "    deviations = de_mean(xs)\n",
    "    return sum_of_squares(deviations) / (n - 1)\n"
   ]
  }
 ],
 "metadata": {
  "kernelspec": {
   "display_name": "Python 3",
   "language": "python",
   "name": "python3"
  },
  "language_info": {
   "codemirror_mode": {
    "name": "ipython",
    "version": 3
   },
   "file_extension": ".py",
   "mimetype": "text/x-python",
   "name": "python",
   "nbconvert_exporter": "python",
   "pygments_lexer": "ipython3",
   "version": "3.13.0"
  }
 },
 "nbformat": 4,
 "nbformat_minor": 5
}
