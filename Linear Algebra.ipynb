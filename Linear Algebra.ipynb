{
 "cells": [
  {
   "cell_type": "code",
   "execution_count": null,
   "metadata": {},
   "outputs": [],
   "source": [
    "# Vectors are points in some finite-dimensional space"
   ]
  },
  {
   "cell_type": "code",
   "execution_count": null,
   "metadata": {},
   "outputs": [],
   "source": [
    "from typing import List\n",
    "Vector = List[float]\n",
    "\n",
    "grades = [95, \n",
    "            80,\n",
    "            75,\n",
    "            62]"
   ]
  },
  {
   "cell_type": "code",
   "execution_count": null,
   "metadata": {},
   "outputs": [],
   "source": [
    "from typing import Union\n",
    "\n",
    "Vector = List[Union[int, float]]"
   ]
  },
  {
   "cell_type": "code",
   "execution_count": 5,
   "metadata": {},
   "outputs": [],
   "source": [
    "def add(v: Vector, w: Vector) -> Vector:\n",
    "    \"\"\"Adds corresponding elements\"\"\"\n",
    "    assert len(v) == len(w), 'vectors must be the same length'\n",
    "    return [v_i + w_i for v_i, w_i in zip(v, w)]\n",
    "\n",
    "assert add([1,2,3], [4,5,6]) == [5,7,9]"
   ]
  },
  {
   "cell_type": "code",
   "execution_count": 6,
   "metadata": {},
   "outputs": [],
   "source": [
    "def subtract(v:Vector, w:Vector) -> Vector:\n",
    "    \"\"\"Subtracts corresponding elecments\"\"\"\n",
    "    assert len(v) == len(w), 'vectors must be the same length'\n",
    "    return [v_i - w_i for v_i, w_i in zip(v,w)]\n",
    "\n",
    "assert subtract([5,7,9], [4,5,6]) == [1,2,3]"
   ]
  },
  {
   "cell_type": "code",
   "execution_count": null,
   "metadata": {},
   "outputs": [],
   "source": [
    "\"\"\"\n",
    "sometimes we want to component wise sum a list of vecotrs-- that is, \n",
    "create a new vecotr whose first element is the sum of all the first elements, \n",
    "whose seconf element is the sum of all the second elements\n",
    "    \"\"\""
   ]
  },
  {
   "cell_type": "code",
   "execution_count": 8,
   "metadata": {},
   "outputs": [],
   "source": [
    "def vector_sum(vectors: List[Vector]) -> Vector:\n",
    "        \"\"\"Sums all corresponding elements\"\"\"\n",
    "        # Check that vectors is not empty\n",
    "        assert vectors, \"no vectors provided\"\n",
    "\n",
    "        # Check the vectors are all the same size\n",
    "        num_elements = len(vectors[0])\n",
    "        assert all(len(v) == num_elements for v in vectors), \"different sizes\"\n",
    "\n",
    "        # th i-th element of the result is the sum of every vector[i]\n",
    "        return [sum(vector[i] for vector in vectors)\n",
    "                for i in range(num_elements)]\n",
    "\n",
    "assert vector_sum([[1,2], [3,4], [5,6], [7,8]]) == [16,20]"
   ]
  },
  {
   "cell_type": "code",
   "execution_count": null,
   "metadata": {},
   "outputs": [],
   "source": [
    "# Matrix --> a 2D collection of numbers\n",
    "# Matrices are important to us to represent a dataset consisting of multiple vectors\n",
    "# Matrices can be used to represent binary relationships"
   ]
  },
  {
   "cell_type": "code",
   "execution_count": null,
   "metadata": {},
   "outputs": [],
   "source": [
    "\"\"\"\n",
    "\n",
    "Imagine you work for a movie recommendation app. Each user has preferences (genre scores), \n",
    "and each movie has genre attributes. You want to:\n",
    "\t1.\tRepresent users and movies as vectors\n",
    "\t2.\tUse dot products to find how well a movie matches a user’s taste\n",
    "\t3.\tUse distance to compare user similarity\n",
    "\n",
    "\"\"\""
   ]
  },
  {
   "cell_type": "code",
   "execution_count": 1,
   "metadata": {},
   "outputs": [],
   "source": [
    "# Represent Users and Movies as Vectors\n",
    "\n",
    "# Each user vector = preference for genres: [Action, Comedy, Drama]\n",
    "user_1 = [5, 1, 2]\n",
    "user_2 = [1, 4, 4]\n",
    "\n",
    "# Each movie vector = how much of each genre it has\n",
    "movie_1 = [5, 2, 1]\n",
    "movie_2 = [1, 5, 3]"
   ]
  },
  {
   "cell_type": "code",
   "execution_count": null,
   "metadata": {},
   "outputs": [],
   "source": [
    "# Write Some Vector Functions\n",
    "\n",
    "from typing import List\n",
    "import math\n",
    "\n",
    "Vector = List[float]\n",
    "\n",
    "def dot(v:Vector, w: Vector) -> float:\n",
    "    return sum(v_i * w_i for v_i, w_i in zip(v,w))\n",
    "\n",
    "def magnitude(v: Vector) -> float:\n",
    "    return math.sqrt(dot(v, v))\n",
    "\n",
    "def distance(v: Vector, w: Vector) -> float:\n",
    "    return magnitude([v_i - w_i for v_i, w_i in zip(v, w)])\n",
    "\n",
    "def normalize(v: Vector) -> Vector:\n",
    "    mag = magnitude(v)\n",
    "    if mag == 0:\n",
    "        return v  # avoid division by 0\n",
    "    return [v_i / mag for v_i in v]\n",
    "\n",
    "def cosine_similarity(v: Vector, w: Vector) -> float:\n",
    "    return dot(v, w) / (magnitude(v) * magnitude(w))\n",
    "\n",
    "# CHat says these operations are generelized"
   ]
  },
  {
   "cell_type": "markdown",
   "metadata": {},
   "source": [
    "Refresher\n",
    "\n",
    "A vector is just a list of numbers\n",
    "Vector arithmetic is used in feature engineering, weight updates and movement through data space\n",
    "Do product lets you know how alighed two vectors are. It's used in similarity, projections, linear regression\n",
    "Magnitude = length of the vector\n",
    "Distance = how far two points are from each other.\n",
    "Magnitude and Distance are used in clustering, nearest neighbors, recommendation systems\n"
   ]
  },
  {
   "cell_type": "code",
   "execution_count": 4,
   "metadata": {},
   "outputs": [
    {
     "name": "stdout",
     "output_type": "stream",
     "text": [
      "User 1 x Movie 1: 29\n",
      "User 1 x Movie 2: 16\n",
      "User 2 x Movie 1: 17\n",
      "User 2 x Movie 2: 33\n"
     ]
    }
   ],
   "source": [
    "# Score how well a movie matches a user\n",
    "\n",
    "print(\"User 1 x Movie 1:\", dot(user_1, movie_1))\n",
    "print(\"User 1 x Movie 2:\", dot(user_1, movie_2))\n",
    "\n",
    "print(\"User 2 x Movie 1:\", dot(user_2, movie_1))\n",
    "print(\"User 2 x Movie 2:\", dot(user_2, movie_2))"
   ]
  },
  {
   "cell_type": "code",
   "execution_count": 8,
   "metadata": {},
   "outputs": [
    {
     "name": "stdout",
     "output_type": "stream",
     "text": [
      "Distance between User 1 and User2: 5.39\n"
     ]
    }
   ],
   "source": [
    "# Compare How Similar Two Users Are\n",
    "\n",
    "print(\"Distance between User 1 and User2:\", round(distance(user_1, user_2),2))"
   ]
  },
  {
   "cell_type": "code",
   "execution_count": 9,
   "metadata": {},
   "outputs": [
    {
     "name": "stdout",
     "output_type": "stream",
     "text": [
      "Normalized User 1: [0.9128709291752769, 0.18257418583505536, 0.3651483716701107]\n",
      "Normalized Movie 1: [0.9128709291752769, 0.3651483716701107, 0.18257418583505536]\n"
     ]
    }
   ],
   "source": [
    "# Normalizing a Vector\n",
    "\n",
    "def normalize(v: Vector) -> Vector:\n",
    "    mag = magnitude(v)\n",
    "    if mag == 0:\n",
    "        return v  # avoid division by 0\n",
    "    return [v_i / mag for v_i in v]\n",
    "\n",
    "\n",
    "# Try normalizing your user and movie vectors\n",
    "norm_user_1 = normalize(user_1)\n",
    "norm_user_2 = normalize(user_2)\n",
    "norm_movie_1 = normalize(movie_1)\n",
    "norm_movie_2 = normalize(movie_2)\n",
    "\n",
    "print(\"Normalized User 1:\", norm_user_1)\n",
    "print(\"Normalized Movie 1:\", norm_movie_1)"
   ]
  },
  {
   "cell_type": "markdown",
   "metadata": {},
   "source": [
    "# Why normalize? When we care what someone likes, not how much they like it\n",
    "# What is cosine similarity -> Cosine similarity measures how aligned two vectors are—i.e., how similar their direction is, not their size."
   ]
  },
  {
   "cell_type": "code",
   "execution_count": 10,
   "metadata": {},
   "outputs": [
    {
     "name": "stdout",
     "output_type": "stream",
     "text": [
      "Cosine similarity: 0.9666666666666667\n"
     ]
    }
   ],
   "source": [
    "def cosine_similarity(v: Vector, w: Vector) -> float:\n",
    "    return dot(v, w) / (magnitude(v) * magnitude(w))\n",
    "\n",
    "cos_sim = cosine_similarity(norm_user_1, norm_movie_1)\n",
    "print(\"Cosine similarity:\", cos_sim)"
   ]
  },
  {
   "cell_type": "markdown",
   "metadata": {},
   "source": [
    "Cosine Similarity\n",
    "Interpretation\n",
    "1.0 -> Perfect match (same direction)\n",
    "~0.9 -> Strong similarity\n",
    "~0.5 -> Somewhat similar\n",
    "0 -> No similarity (orthogonal)\n",
    "< 0 -> Opposite preferences\n"
   ]
  },
  {
   "cell_type": "code",
   "execution_count": 11,
   "metadata": {},
   "outputs": [
    {
     "name": "stdout",
     "output_type": "stream",
     "text": [
      "Top movie for User 1: [5, 2, 1]\n",
      "Top movie for User 2: [1, 5, 3]\n"
     ]
    }
   ],
   "source": [
    "users = [user_1, user_2]\n",
    "movies = [movie_1, movie_2]\n",
    "\n",
    "def recommend_movie(user: Vector, movies: List[Vector]) -> Vector:\n",
    "        best_score = float('-inf')\n",
    "        best_movie = None\n",
    "        for movie in movies:\n",
    "            score = dot(user, movie)\n",
    "            if score > best_score:\n",
    "                best_score = score\n",
    "                best_movie = movie\n",
    "        return best_movie\n",
    "\n",
    "#Recommend for both users\n",
    "print(\"Top movie for User 1:\", recommend_movie(user_1, movies))\n",
    "print(\"Top movie for User 2:\", recommend_movie(user_2, movies))"
   ]
  },
  {
   "cell_type": "code",
   "execution_count": null,
   "metadata": {},
   "outputs": [],
   "source": []
  }
 ],
 "metadata": {
  "kernelspec": {
   "display_name": "Python 3",
   "language": "python",
   "name": "python3"
  },
  "language_info": {
   "codemirror_mode": {
    "name": "ipython",
    "version": 3
   },
   "file_extension": ".py",
   "mimetype": "text/x-python",
   "name": "python",
   "nbconvert_exporter": "python",
   "pygments_lexer": "ipython3",
   "version": "3.13.0"
  }
 },
 "nbformat": 4,
 "nbformat_minor": 2
}
